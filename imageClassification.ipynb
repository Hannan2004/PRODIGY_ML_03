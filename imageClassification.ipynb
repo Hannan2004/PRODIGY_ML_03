{
 "cells": [
  {
   "cell_type": "code",
   "execution_count": 2,
   "id": "2af7fdb2-fd2c-49c0-9204-760e05c3f215",
   "metadata": {},
   "outputs": [],
   "source": [
    "import pandas as pd\n",
    "import os\n",
    "from skimage.transform import resize\n",
    "from skimage.io import imread\n",
    "import numpy as np\n",
    "import matplotlib.pyplot as plt\n",
    "from sklearn import svm\n",
    "from sklearn.model_selection import GridSearchCV\n",
    "from sklearn.model_selection import train_test_split\n",
    "from sklearn.metrics import accuracy_score\n",
    "from sklearn.metrics import classification_report"
   ]
  },
  {
   "cell_type": "code",
   "execution_count": 3,
   "id": "6fd0c191-8551-4842-bd00-006866f40317",
   "metadata": {},
   "outputs": [
    {
     "name": "stdout",
     "output_type": "stream",
     "text": [
      "loading... category : cats\n",
      "loaded category:cats successfully\n",
      "loading... category : dogs\n",
      "loaded category:dogs successfully\n"
     ]
    }
   ],
   "source": [
    "Categories=['cats','dogs'] \n",
    "flat_data_arr=[] #input array \n",
    "target_arr=[] #output array \n",
    "datadir='C:\\\\Users\\\\Sugra\\\\Desktop\\\\machine\\\\dog vs cat\\\\dataset\\\\test_set' \n",
    "for i in Categories: \n",
    "      \n",
    "    print(f'loading... category : {i}') \n",
    "    path=os.path.join(datadir,i) \n",
    "    for img in os.listdir(path): \n",
    "        img_array=imread(os.path.join(path,img)) \n",
    "        img_resized=resize(img_array,(150,150,3)) \n",
    "        flat_data_arr.append(img_resized.flatten()) \n",
    "        target_arr.append(Categories.index(i)) \n",
    "    print(f'loaded category:{i} successfully') \n",
    "flat_data=np.array(flat_data_arr) \n",
    "target=np.array(target_arr)"
   ]
  },
  {
   "cell_type": "code",
   "execution_count": 4,
   "id": "0c6da087-5c00-4f5b-93df-fd31c0f08793",
   "metadata": {},
   "outputs": [
    {
     "data": {
      "text/plain": [
       "(2000, 67501)"
      ]
     },
     "execution_count": 4,
     "metadata": {},
     "output_type": "execute_result"
    }
   ],
   "source": [
    "#dataframe\n",
    "df=pd.DataFrame(flat_data)\n",
    "df['Target']=target\n",
    "df.shape"
   ]
  },
  {
   "cell_type": "code",
   "execution_count": 5,
   "id": "3fc0d9ff-e2bc-4efa-aac4-c0decee166d8",
   "metadata": {},
   "outputs": [],
   "source": [
    "#input data\n",
    "x=df.iloc[:,:-1]\n",
    "#output data\n",
    "y=df.iloc[:,-1]"
   ]
  },
  {
   "cell_type": "code",
   "execution_count": 6,
   "id": "27e753d2-bbe9-4f39-8124-80c62d223e9e",
   "metadata": {},
   "outputs": [],
   "source": [
    "#Splitting the data into training and testing sets\n",
    "x_train,x_test,y_train,y_test=train_test_split(x,y,test_size=0.20,\n",
    "                                              random_state=77,\n",
    "                                              stratify=y)"
   ]
  },
  {
   "cell_type": "code",
   "execution_count": 7,
   "id": "f50d5422-77a5-48e1-8d43-ca5ced173c21",
   "metadata": {},
   "outputs": [],
   "source": [
    "#Defining the parameters grid for GridSearchCV\n",
    "param_grid={'C':[0.1,1,10,100],\n",
    "           'gamma':[0.0001,0.001,0.1,1],\n",
    "           'kernel':['rbf','poly']}\n",
    "\n",
    "#Creating a support vector classifier\n",
    "svc=svm.SVC(probability=True)\n",
    "\n",
    "#Creating a model using GridSearchCV with the parameters grid\n",
    "model=GridSearchCV(svc,param_grid)"
   ]
  },
  {
   "cell_type": "code",
   "execution_count": null,
   "id": "6328bcce-7ebc-4a72-bee1-f4b8ba340d32",
   "metadata": {},
   "outputs": [],
   "source": [
    "model.fit(x_train,y_train)"
   ]
  },
  {
   "cell_type": "code",
   "execution_count": null,
   "id": "4163b5e4-7155-4d51-90cc-f21870c00f76",
   "metadata": {},
   "outputs": [],
   "source": [
    "#Testing\n",
    "y_pred = model.predict(x_test)\n",
    "\n",
    "#Calculating\n",
    "accuracy = accuracy_score(y_pred, y_test)\n",
    "\n",
    "#print\n",
    "print(f\"The model is {accuracy*100}% accurate\")"
   ]
  },
  {
   "cell_type": "code",
   "execution_count": null,
   "id": "9b96f59b-ad24-408b-8219-f78b67ebb2d2",
   "metadata": {},
   "outputs": [],
   "source": [
    "print(classification_report(y_test, y_pred, target_names=['cat', 'dog']))"
   ]
  },
  {
   "cell_type": "code",
   "execution_count": null,
   "id": "872746ae-859f-4008-b229-243034c14caa",
   "metadata": {},
   "outputs": [],
   "source": [
    "path='dataset/test_set/dogs/dog.4001.jpg'\n",
    "img=imread(path) \n",
    "plt.imshow(img) \n",
    "plt.show() \n",
    "img_resize=resize(img,(150,150,3)) \n",
    "l=[img_resize.flatten()] \n",
    "probability=model.predict_proba(l) \n",
    "for ind,val in enumerate(Categories): \n",
    "    print(f'{val} = {probability[0][ind]*100}%') \n",
    "print(\"The predicted image is : \"+Categories[model.predict(l)[0]])"
   ]
  }
 ],
 "metadata": {
  "kernelspec": {
   "display_name": "Python 3 (ipykernel)",
   "language": "python",
   "name": "python3"
  },
  "language_info": {
   "codemirror_mode": {
    "name": "ipython",
    "version": 3
   },
   "file_extension": ".py",
   "mimetype": "text/x-python",
   "name": "python",
   "nbconvert_exporter": "python",
   "pygments_lexer": "ipython3",
   "version": "3.12.0"
  }
 },
 "nbformat": 4,
 "nbformat_minor": 5
}
